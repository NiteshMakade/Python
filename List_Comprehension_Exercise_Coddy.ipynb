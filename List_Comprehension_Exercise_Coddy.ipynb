{
  "nbformat": 4,
  "nbformat_minor": 0,
  "metadata": {
    "colab": {
      "provenance": []
    },
    "kernelspec": {
      "name": "python3",
      "display_name": "Python 3"
    },
    "language_info": {
      "name": "python"
    }
  },
  "cells": [
    {
      "cell_type": "markdown",
      "source": [
        "# List Comprehension Exercise"
      ],
      "metadata": {
        "id": "l-qihH0VJlGr"
      }
    },
    {
      "cell_type": "markdown",
      "source": [
        "# P-1 Cube of number (List Comphension - Mapping)\n",
        "-List Comprenhension Syntax:  lst = [expression for item in iterable]\n",
        "-calculate a list which holds the cubes of all the number"
      ],
      "metadata": {
        "id": "woJF64cdx1qs"
      }
    },
    {
      "cell_type": "code",
      "source": [
        "nums = [1, 4, 6, 12, 3]\n",
        "\n",
        "#method 1 (Without List Comprehension)\n",
        "cube = []\n",
        "for i in nums:\n",
        "  cube.append(i**3)\n",
        "#print(cube)\n",
        "\n",
        "# method 2 (With List Comprehension\n",
        "cubes = [i**3 for i in nums]\n",
        "print(cubes)"
      ],
      "metadata": {
        "colab": {
          "base_uri": "https://localhost:8080/"
        },
        "id": "sfbz4x44vEAq",
        "outputId": "b2306798-7732-425f-c38c-ac0fdc7e624b"
      },
      "execution_count": null,
      "outputs": [
        {
          "output_type": "stream",
          "name": "stdout",
          "text": [
            "<class 'list'>\n"
          ]
        }
      ]
    },
    {
      "cell_type": "markdown",
      "source": [
        "# P-2 filter only the ones containing the character 'a' (List Comprehension - Filtering)\n",
        "\n",
        "-Syntax:  lst = [expression for item in iterable if condition] -->If the condition is True the\n",
        "-item will be added to the new list. lst will hold a new list resulted from the list comprehension operation.\n"
      ],
      "metadata": {
        "id": "S6RBav67yRwd"
      }
    },
    {
      "cell_type": "code",
      "source": [
        "#method 1 (Without List Comprehension)\n",
        "filter = []\n",
        "for wrd in words:\n",
        "  if 'a' in wrd:\n",
        "    filter.append(wrd)\n",
        "print(filter)\n",
        "\n",
        "# method 2 (With List Comprehension)\n",
        "words = ['pony', 'confine', 'utter', 'decrease', 'entertain']\n",
        "lst_a = [x for x in words if 'a' in x ]\n",
        "lst_a"
      ],
      "metadata": {
        "colab": {
          "base_uri": "https://localhost:8080/"
        },
        "id": "1X0RFJi-Jr1N",
        "outputId": "f8f2827a-e04e-4477-95e7-123279d692c0"
      },
      "execution_count": null,
      "outputs": [
        {
          "output_type": "execute_result",
          "data": {
            "text/plain": [
              "['decrease', 'entertain']"
            ]
          },
          "metadata": {},
          "execution_count": 14
        }
      ]
    },
    {
      "cell_type": "markdown",
      "source": [
        "# P-3 (Even Number)\n",
        "Create new list which includes only even number from existing list"
      ],
      "metadata": {
        "id": "WwRBgKiQy3SD"
      }
    },
    {
      "cell_type": "code",
      "source": [
        "nums = eval(input())\n",
        "even_nums = [x for x in nums if x%2==0 ]\n",
        "even_nums"
      ],
      "metadata": {
        "colab": {
          "base_uri": "https://localhost:8080/"
        },
        "id": "UrMkRvDqKrYf",
        "outputId": "8ec21332-f4b0-44ed-b3c0-23586b3b876c"
      },
      "execution_count": null,
      "outputs": [
        {
          "name": "stdout",
          "output_type": "stream",
          "text": [
            "[23, 1, 3]\n"
          ]
        },
        {
          "output_type": "execute_result",
          "data": {
            "text/plain": [
              "[]"
            ]
          },
          "metadata": {},
          "execution_count": 22
        }
      ]
    },
    {
      "cell_type": "markdown",
      "source": [
        "# P-4 (palindrome words)\n",
        "Given a list of strings words, calculate a new list where only the first letter of each word is stored if the word\n",
        "is palindrome.Store the new list in a variable named new_words.\n",
        "A palindrome is a string that remains the same even when read backwards, for example \"php\"."
      ],
      "metadata": {
        "id": "Yue5JgUqzGGE"
      }
    },
    {
      "cell_type": "code",
      "source": [
        "words = eval(input())\n",
        "new_lst = [x[0] for x in words if x[:]==x[::-1]]\n",
        "new_lst"
      ],
      "metadata": {
        "colab": {
          "base_uri": "https://localhost:8080/"
        },
        "id": "6864oTqQU_mQ",
        "outputId": "36d491ff-3f69-4613-bc60-77cadfd958c9"
      },
      "execution_count": null,
      "outputs": [
        {
          "name": "stdout",
          "output_type": "stream",
          "text": [
            "[\"A\", \"AA\", \"AAA\"]\n"
          ]
        },
        {
          "output_type": "execute_result",
          "data": {
            "text/plain": [
              "['A', 'A', 'A']"
            ]
          },
          "metadata": {},
          "execution_count": 8
        }
      ]
    },
    {
      "cell_type": "markdown",
      "source": [
        "# P-5\n",
        "Given a list of numbers nums.\n",
        "Create a list comprehension that takes in nums and returns a new list named nums2 thatstores integers after dividing them by 3 if they are multiples of 3."
      ],
      "metadata": {
        "id": "Ci3RxdsEzX3r"
      }
    },
    {
      "cell_type": "code",
      "source": [
        "nums = eval(input())  # Don't change this line\n",
        "#nums = [15,12, 10]\n",
        "nums2 = [int(x/3) for x in nums if x%3==0]\n",
        "nums2"
      ],
      "metadata": {
        "colab": {
          "base_uri": "https://localhost:8080/"
        },
        "id": "8Feav1Z_M97m",
        "outputId": "1e3223ab-237a-4e22-ace8-173e9c6f234c"
      },
      "execution_count": null,
      "outputs": [
        {
          "name": "stdout",
          "output_type": "stream",
          "text": [
            "[1, 2, 4, 5, 7, 8, 10, 11, 13]\n"
          ]
        },
        {
          "output_type": "execute_result",
          "data": {
            "text/plain": [
              "[]"
            ]
          },
          "metadata": {},
          "execution_count": 17
        }
      ]
    },
    {
      "cell_type": "markdown",
      "source": [
        "# P-6\n",
        "Given a list of tuples of three integers lst. Create a list comprehension that takes in a list of tuples lst, and returns a new list named new_lst that stores the same tuples if the sum of the integers in the tuple is greater than 20.Also, each tuple in new_lst should be sorted in descending order"
      ],
      "metadata": {
        "id": "v5lmb1rPzjBL"
      }
    },
    {
      "cell_type": "code",
      "source": [
        "lst = eval(input())\n",
        "new_lst = [tuple(sorted(i,reverse =True)) for i in lst if sum(i)>20]\n",
        "\n",
        "new_lst"
      ],
      "metadata": {
        "colab": {
          "base_uri": "https://localhost:8080/"
        },
        "id": "6MJqNgaCRBp1",
        "outputId": "75ddb2c8-53c4-4a9c-8c52-327c324f279b"
      },
      "execution_count": null,
      "outputs": [
        {
          "name": "stdout",
          "output_type": "stream",
          "text": [
            "[(1, 5, 15), (7, 8, 10), (6, 6, 6), (2, 3, 30)]\n"
          ]
        },
        {
          "output_type": "execute_result",
          "data": {
            "text/plain": [
              "[(15, 5, 1), (10, 8, 7), (30, 3, 2)]"
            ]
          },
          "metadata": {},
          "execution_count": 59
        }
      ]
    },
    {
      "cell_type": "markdown",
      "source": [
        "# P-7\n",
        "'''List comprehension can even be used on multiple input lists,\n",
        "syntax:   result = [expression for x in lst1 for y in lst2]\n",
        "The above example is for two lists but it can be as much as you want.'''\n",
        "\n",
        "Problem: Given two lists of numbers nums1 and nums2.\n",
        "Create a list comprehension that takes in two lists of integers, nums1 and nums2, and returns a new list named total_nums containing the product of each combination of integers from the two lists.'''\n",
        "\n",
        "\n",
        "''''-- without list comprehension\n",
        "\n",
        "nums1 = [10, 20]\n",
        "nums2= [1, 2, 3, 4]\n",
        "\n",
        "total_nums = []\n",
        "for i in nums1:\n",
        "  for j in nums2:\n",
        "    total_nums.append(i*j)\n",
        "print(total_nums)\n",
        "'''\n"
      ],
      "metadata": {
        "id": "KmVeRvr_zuNp"
      }
    },
    {
      "cell_type": "code",
      "source": [
        "nums1 = eval(input())  # Don't change this line\n",
        "nums2 = eval(input())  # Don't change this line\n",
        "\n",
        "total_nums = [i*j for i in nums1 for j in nums2]\n",
        "print(total_nums)\n",
        "\n"
      ],
      "metadata": {
        "colab": {
          "base_uri": "https://localhost:8080/"
        },
        "id": "DBHsfWrCb4If",
        "outputId": "0ff451c7-473e-4c40-ffd4-e4fe831d94dd"
      },
      "execution_count": null,
      "outputs": [
        {
          "output_type": "stream",
          "name": "stdout",
          "text": [
            "[2, 4, 6, 8]\n",
            "[1, 3, 5]\n",
            "[2, 6, 10, 4, 12, 20, 6, 18, 30, 8, 24, 40]\n"
          ]
        }
      ]
    },
    {
      "cell_type": "markdown",
      "source": [
        "# P-8\n",
        "Given a list of numbers nums.Create a list comprehension that takes in a list of integers, nums, and returns a new list named divisible containing only the integers that are divisible by the sum of their digits."
      ],
      "metadata": {
        "id": "64tnE0ql0ciq"
      }
    },
    {
      "cell_type": "code",
      "source": [
        "nums = eval(input())\n",
        "\n",
        "divisible = [num for num in nums if num%sum(int(digit) for digit in str(num))==0 ]\n",
        "divisible\n",
        "\n",
        "#[111, 222, 333, 444, 555]-->[111, 222, 333, 444, 555]\n",
        "#[123, 45, 67, 89, 1011]--> [45, 1011]"
      ],
      "metadata": {
        "colab": {
          "base_uri": "https://localhost:8080/"
        },
        "id": "oeiOklEz7CCW",
        "outputId": "f96f1a74-26f9-4d13-e01b-3195cba0c0b3"
      },
      "execution_count": null,
      "outputs": [
        {
          "name": "stdout",
          "output_type": "stream",
          "text": [
            "[111, 222, 333, 444, 555]\n"
          ]
        },
        {
          "output_type": "execute_result",
          "data": {
            "text/plain": [
              "[111, 222, 333, 444, 555]"
            ]
          },
          "metadata": {},
          "execution_count": 6
        }
      ]
    },
    {
      "cell_type": "markdown",
      "source": [
        "# P-9\n",
        "Given a list of strings strings.Create a list comprehension that takes in a list of strings strings and returns a new list named pairs containing all\n",
        "the pairs of strings that share no common letters.The result should be ordered by the occurrence of the words in the given list (by indexes)."
      ],
      "metadata": {
        "id": "o1xk9NXj0orU"
      }
    },
    {
      "cell_type": "code",
      "source": [
        "strings =eval(input())\n",
        "\n",
        "pairs = [(s1, s2) for i, s1 in enumerate(strings) for j, s2 in enumerate(strings) if i < j and not set(s1) & set(s2)]\n",
        "pairs\n",
        "#['car', 'bike', 'train', 'boat']-->[('car', 'bike')]\n",
        "#['apple', 'banana', 'cherry', 'date']-->[('banana', 'cherry')]\n"
      ],
      "metadata": {
        "colab": {
          "base_uri": "https://localhost:8080/"
        },
        "id": "lxdzQS7zdYbJ",
        "outputId": "9f119ab8-7f25-4eda-a1d4-e06ddc9833a0"
      },
      "execution_count": null,
      "outputs": [
        {
          "name": "stdout",
          "output_type": "stream",
          "text": [
            "['blue', 'red', 'green', 'yellow']\n"
          ]
        },
        {
          "output_type": "execute_result",
          "data": {
            "text/plain": [
              "[]"
            ]
          },
          "metadata": {},
          "execution_count": 22
        }
      ]
    }
  ]
}