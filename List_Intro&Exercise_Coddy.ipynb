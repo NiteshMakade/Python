{
  "cells": [
    {
      "cell_type": "markdown",
      "source": [
        "# **Introduction to List **"
      ],
      "metadata": {
        "id": "6lF88qNDMBFm"
      }
    },
    {
      "cell_type": "code",
      "source": [
        "#    append()\n",
        "lst3 = [1,2,3]\n",
        "print(len(lst3))\n",
        "lst3.append(4)          #Append ele in the list\n",
        "print(lst3)\n",
        "lst3.append(5)\n",
        "print(lst3)\n",
        "lst4 = lst3.append(10)   # Unable to create new list with append check the reason\n",
        "print(lst4)"
      ],
      "metadata": {
        "id": "oW9Ck4_RMR0y"
      },
      "execution_count": null,
      "outputs": []
    },
    {
      "cell_type": "code",
      "source": [
        "#    insert()\n",
        "lst5 = [1,2,3]\n",
        "lst5.insert(1, 6)          #insert ele in the in the place of assigned index\n",
        "print(lst5)"
      ],
      "metadata": {
        "id": "9NyMoOZfM6oD"
      },
      "execution_count": null,
      "outputs": []
    },
    {
      "cell_type": "code",
      "source": [
        "#     remove()\n",
        "lst6 = [1,2,1,3,2]\n",
        "lst6.remove(2)          #It will remove 1st occurence of ele in the given list\n",
        "print(lst6)\n",
        "#lst6()"
      ],
      "metadata": {
        "id": "IoqxJu6ENEZ2"
      },
      "execution_count": null,
      "outputs": []
    },
    {
      "cell_type": "code",
      "source": [
        "#  append vs extend\n",
        "lst6a = [1,2,3]\n",
        "lst6b = [1,2,3]\n",
        "lst7 = [4,5]\n",
        "lst6a.append(lst7)    # Append join the list in list, extend will join elements only\n",
        "print(lst6a)\n",
        "lst6b.extend(lst7)\n",
        "print(lst6b)\n"
      ],
      "metadata": {
        "id": "DcT3vk-ZNIo6"
      },
      "execution_count": null,
      "outputs": []
    },
    {
      "cell_type": "code",
      "source": [
        "#  del vs pop\n",
        "lst8 = [1,2,3,4,5,6]\n",
        "del lst8[1]\n",
        "print(lst8)\n",
        "\n",
        "lst8.pop(1)\n",
        "print(lst8)\n",
        "lst8.pop()     # by default pop delete last element from the list\n",
        "print(lst8)"
      ],
      "metadata": {
        "id": "Kkbx4dplNPUc"
      },
      "execution_count": null,
      "outputs": []
    },
    {
      "cell_type": "code",
      "source": [
        "#  List related Keywords in python - in AND not in\n",
        "lst9 = [1,2,3,4,5,6]\n",
        "if 2 in lst9:\n",
        "    print('AI')\n",
        "\n",
        "\n",
        "if 2 not in lst9:\n",
        "    print(\"ML\")      # 2 is there in the list so it is not print any thing\n",
        "\n",
        "\n",
        "if 'six' not in lst9:\n",
        "    print(\"DA\")"
      ],
      "metadata": {
        "id": "Y27-3KgGNQ7U"
      },
      "execution_count": null,
      "outputs": []
    },
    {
      "cell_type": "code",
      "source": [
        "#  reverse\n",
        "lst10 = [1,2,3,4,5,6]\n",
        "lst10.reverse()          # will reverse the output\n",
        "print(lst10)"
      ],
      "metadata": {
        "id": "VgMWTlK0NZmj"
      },
      "execution_count": null,
      "outputs": []
    },
    {
      "cell_type": "code",
      "source": [
        "#  sorted\n",
        "lst10 = [3,2,13,4,7,6]\n",
        "print(lst10)\n",
        "print(sorted(lst10))   # for sorted we need to create new variable o.w. it will return prev vlaue when we call it\n",
        "print(lst10)\n",
        "lst11 = sorted(lst10)\n",
        "print(lst11)\n",
        "\n",
        "print('***** Sort *****')\n",
        "#  sort\n",
        "lst12 = [3,2,13,4,7,6]\n",
        "print(lst12)\n",
        "lst12.sort()             #sort the same list\n",
        "print(lst12)"
      ],
      "metadata": {
        "id": "dED-Fqz2Na03"
      },
      "execution_count": null,
      "outputs": []
    },
    {
      "cell_type": "markdown",
      "source": [
        "# **Now this is time to solve few challenges based on list.**"
      ],
      "metadata": {
        "id": "bo62CJvaPLSW"
      }
    },
    {
      "cell_type": "markdown",
      "metadata": {
        "id": "U20jsiX0yvSD"
      },
      "source": [
        "# P-1\n",
        "Create a function returnList that accepts a list and returns another list with the following conditions:\n",
        "\n",
        "-If an element is an Integer then replace it with the square of the integer\n",
        "-If an element is a String then replace it with an uppercase string.\n",
        "-In addition append all of the original elements using extend() at the end of the returned list"
      ]
    },
    {
      "cell_type": "code",
      "source": [
        "def returnList(mylist):\n",
        "    new_list =[]\n",
        "    for i in mylist:\n",
        "        if type(i)==int:\n",
        "            new_list.append(i**2)\n",
        "        if type(i)==str:\n",
        "            new_list.append(i.upper())\n",
        "    new_list.extend(mylist)\n",
        "    return new_list\n",
        "\n",
        "returnList([1, 'hello', True])"
      ],
      "metadata": {
        "colab": {
          "base_uri": "https://localhost:8080/"
        },
        "id": "ZKnccX0UMsw8",
        "outputId": "5988b7b3-875f-4410-fd83-c6a86a1ce6c5"
      },
      "execution_count": 14,
      "outputs": [
        {
          "output_type": "execute_result",
          "data": {
            "text/plain": [
              "[1, 'HELLO', 1, 'hello', True]"
            ]
          },
          "metadata": {},
          "execution_count": 14
        }
      ]
    },
    {
      "cell_type": "markdown",
      "metadata": {
        "id": "yk2wQtZn3Sg0"
      },
      "source": [
        "# P-2\n",
        "Create a function returnList that accepts a list and returns the same list but with the following modifications:\n",
        "\n",
        "-If the length of the list is an even number insert the sum of all elements in the middle\n",
        "-If the length of the list is an odd number insert the product of all elements at 2nd index"
      ]
    },
    {
      "cell_type": "code",
      "execution_count": null,
      "metadata": {
        "colab": {
          "base_uri": "https://localhost:8080/"
        },
        "id": "YA_0ftfr3UqO",
        "outputId": "33f4bd93-f06b-4853-d8bf-01d55062ddcc"
      },
      "outputs": [
        {
          "data": {
            "text/plain": [
              "[1, 120960, 5, 4, 7, 8, 9, 6, 1, 2]"
            ]
          },
          "execution_count": 34,
          "metadata": {},
          "output_type": "execute_result"
        }
      ],
      "source": [
        "def returnList(mylist):\n",
        "    product = 1\n",
        "    if len(mylist)%2==0:\n",
        "      mylist.insert(int((len(mylist)/2)),sum(mylist))\n",
        "      return mylist\n",
        "    else: #len(mylist)%2==0:\n",
        "      for i in mylist:\n",
        "        product = product*i\n",
        "    mylist.insert(1,product)\n",
        "    return mylist\n",
        "\n",
        "returnList([1, 5, 4, 7, 8, 9, 6, 1, 2])"
      ]
    },
    {
      "cell_type": "markdown",
      "metadata": {
        "id": "KCvW5jcX8n-m"
      },
      "source": [
        "# P-3\n",
        "Create a function returnList that accepts 2 lists and returns a list by following the below-mentioned conditions using '+' operator\n",
        "\n",
        "By concatenating two of those lists if both the lists have the same number of elements\n",
        "If not, then By concatenating the first half of the elements from both lists if the length of both lists is an even number.\n",
        "If above both conditions are not satisfied, then concatenate the elements at even indices for both lists"
      ]
    },
    {
      "cell_type": "code",
      "execution_count": null,
      "metadata": {
        "colab": {
          "base_uri": "https://localhost:8080/"
        },
        "id": "JGstVy1v8p72",
        "outputId": "ae0e52f4-2186-4941-e849-56424cab445d"
      },
      "outputs": [
        {
          "data": {
            "text/plain": [
              "[11, 31, 51, 22, 42, 72]"
            ]
          },
          "execution_count": 38,
          "metadata": {},
          "output_type": "execute_result"
        }
      ],
      "source": [
        "def returnList(mylist1, mylist2):\n",
        "  if len(mylist1)==len(mylist2):\n",
        "    mylist3 = mylist1 + mylist2\n",
        "    return mylist3\n",
        "  elif len(mylist1)%2==0 and len(mylist2)%2==0:\n",
        "    n1 = int(len(mylist1)/2)\n",
        "    n2 = int(len(mylist2)/2)\n",
        "    mylist3 = mylist1[:n1]+mylist2[:n2]\n",
        "    return mylist3\n",
        "  else:\n",
        "    mylist3 = mylist1[::2]+ mylist2[::2]\n",
        "    return mylist3\n",
        "\n",
        "\n",
        "returnList([11, 21, 31, 41, 51],\n",
        "[22, 32, 42, 52, 72, 82])"
      ]
    },
    {
      "cell_type": "markdown",
      "metadata": {
        "id": "fhh3HaFxAV8b"
      },
      "source": [
        "# p-4\n",
        "Create a function returnList that accepts a list and returns the same list by removing the items that are divisible by 3 & 5 by using remove()"
      ]
    },
    {
      "cell_type": "code",
      "execution_count": null,
      "metadata": {
        "colab": {
          "base_uri": "https://localhost:8080/"
        },
        "id": "dGdgFl-cAZIo",
        "outputId": "2e9faecb-fec8-4e4e-fc1a-e25f9a1294c4"
      },
      "outputs": [
        {
          "data": {
            "text/plain": [
              "[2, 4, 6, 7, -1, -1]"
            ]
          },
          "execution_count": 41,
          "metadata": {},
          "output_type": "execute_result"
        }
      ],
      "source": [
        "'''\n",
        "def returnList(mylist):\n",
        "    for i in mylist:\n",
        "        if i%3==0 or i%5==0:\n",
        "            mylist.remove(i)\n",
        "    return mylist'''\n",
        "\n",
        "# Note above code did not gives the proper reult this is because modifying a list while iterating over it can lead to\n",
        "# unexpected behavior and skipping elements.\n",
        "def returnList(mylist):\n",
        "    # Iterate over a copy of the list to avoid modifying it during iteration\n",
        "    for i in mylist[:]:   # Here, mylist[:] creates a shallow copy of the list so that modifications to the original\n",
        "                          #list do not affect the iteration.\n",
        "        if i % 3 == 0 or i % 5 == 0:\n",
        "            mylist.remove(i)\n",
        "    return mylist\n",
        "\n",
        "returnList([2, 3, 4, 5, 6, 7, -1, -1])\n",
        "\n",
        "\n",
        "#using List Compehension\n",
        "def rt(mylist):\n",
        "    filtered_list = [i for i in mylist if i % 3 != 0 and i % 5 != 0]\n",
        "    return filtered_list\n"
      ]
    },
    {
      "cell_type": "markdown",
      "metadata": {
        "id": "KXsp_Fj1D7O7"
      },
      "source": [
        "# P-5\n",
        "Create a function returnList that accepts a list and returns the same list by removing the items that follow the below-mentioned conditions using pop()\n",
        "\n",
        "If last item is even number remove it, and return the remaining list.\n",
        "\n",
        "If not, then check the first item, if that item is an odd number, then remove that element, and return the remaining list.\n",
        "\n",
        "If not, then remove 2nd element.\n",
        "\n",
        "Also if the length of list is not greater than 2, then return an empty list"
      ]
    },
    {
      "cell_type": "code",
      "execution_count": null,
      "metadata": {
        "id": "WfzrjvfzEQZw"
      },
      "outputs": [],
      "source": [
        "# To  removes the specified item using a specified index from a list, use the pop() method.\n",
        "# Remove is based on element while pop is based on index"
      ]
    },
    {
      "cell_type": "code",
      "execution_count": null,
      "metadata": {
        "colab": {
          "background_save": true
        },
        "id": "lKx8Gk6sFDgN",
        "outputId": "0fbb2e81-b564-46ab-c00c-51c4035f5ccb"
      },
      "outputs": [
        {
          "data": {
            "text/plain": [
              "[1223, 9798, 381]"
            ]
          },
          "execution_count": 51,
          "metadata": {},
          "output_type": "execute_result"
        }
      ],
      "source": [
        "def returnList(mylist):\n",
        "    if len(mylist)<=2:\n",
        "        return []\n",
        "    if mylist[-1]%2==0:\n",
        "        mylist.pop()\n",
        "        return mylist\n",
        "    if mylist[0]%2!=0:\n",
        "        mylist.pop(0)\n",
        "        return mylist\n",
        "    else:\n",
        "        mylist.pop(1)\n",
        "        return mylist\n",
        "\n",
        "returnList([1223, 9798, 381, 2372])"
      ]
    },
    {
      "cell_type": "markdown",
      "source": [
        "# P-6\n",
        "Create a function clearList that accepts a list and returns an empty list if the list contains the items of all three datatypes: str, int and bool, else return the same list."
      ],
      "metadata": {
        "id": "TKn6_iMx98nf"
      }
    },
    {
      "cell_type": "code",
      "source": [
        "def clearList(mylist):\n",
        "  types = []\n",
        "  for i in mylist:\n",
        "      if type(i)==int:   # if isinstance(i, int) this also works\n",
        "        types.append(int)\n",
        "      if type(i)==str:\n",
        "        types.append(str)\n",
        "      if type(i)==bool:\n",
        "        types.append(bool)\n",
        "  if int in types and str in types and bool in types:\n",
        "      mylist.clear()\n",
        "      return mylist\n",
        "  else:\n",
        "      return mylist\n",
        "\n",
        "clearList([12, 1, -1, 0, True])"
      ],
      "metadata": {
        "colab": {
          "base_uri": "https://localhost:8080/"
        },
        "id": "pqRSJ1kM73lA",
        "outputId": "50ef04f2-9943-4a74-beca-fca18fe0fa19"
      },
      "execution_count": 34,
      "outputs": [
        {
          "output_type": "execute_result",
          "data": {
            "text/plain": [
              "[12, 1, -1, 0, True]"
            ]
          },
          "metadata": {},
          "execution_count": 34
        }
      ]
    },
    {
      "cell_type": "markdown",
      "source": [
        "# P-7\n",
        "Create a function deleteItems that accepts a list and returns the same list by removing the elements at even indices if the length of the list is an even number or returns the same list by removing the elements at odd indices if the length of the list is an odd number using del"
      ],
      "metadata": {
        "id": "fTtVY_NHKJzK"
      }
    },
    {
      "cell_type": "code",
      "source": [
        "def deleteItems(mylist):\n",
        "    if len(mylist)%2==0:\n",
        "        del mylist[::2]\n",
        "        return mylist\n",
        "    else:\n",
        "        del mylist[1::2]\n",
        "        return mylist\n",
        "\n",
        "#deleteItems(['America', 'Brazil', 'China', 'Denmark', 'Ethiopia'])\n",
        "deleteItems([0, 1, 2, 3, 4, 5, 6, 7, 8, 9, 10])"
      ],
      "metadata": {
        "colab": {
          "base_uri": "https://localhost:8080/"
        },
        "id": "61BtHC0h8SXK",
        "outputId": "2d71c850-6059-4356-8e30-75959b8e04d5"
      },
      "execution_count": 40,
      "outputs": [
        {
          "output_type": "execute_result",
          "data": {
            "text/plain": [
              "[0, 2, 4, 6, 8, 10]"
            ]
          },
          "metadata": {},
          "execution_count": 40
        }
      ]
    },
    {
      "cell_type": "markdown",
      "source": [
        "# P-8\n",
        "Create a function similarityCheck that accepts 2 lists and returns True if both the lists contains similar elements or False if both the lists contains different elements using"
      ],
      "metadata": {
        "id": "MMrsZbekNs4X"
      }
    },
    {
      "cell_type": "code",
      "source": [
        "def similarityCheck(mylist1, mylist2):\n",
        "    mylist1.sort()\n",
        "    mylist2.sort()\n",
        "    if len(mylist1)==len(mylist2) and mylist1==mylist2:\n",
        "        return True\n",
        "    else:\n",
        "        return False\n",
        "\n",
        "similarityCheck([1,2,3,4,5,6,7,8,9,10],\n",
        "[1,2,3,4,5])\n",
        "\n"
      ],
      "metadata": {
        "colab": {
          "base_uri": "https://localhost:8080/"
        },
        "id": "81S7V5pSNvkH",
        "outputId": "3ed8ace9-781a-4c24-b186-849a33377673"
      },
      "execution_count": 45,
      "outputs": [
        {
          "output_type": "execute_result",
          "data": {
            "text/plain": [
              "False"
            ]
          },
          "metadata": {},
          "execution_count": 45
        }
      ]
    },
    {
      "cell_type": "markdown",
      "source": [
        "# P-9\n",
        "Create a function similarityCheck that accepts 2 lists and returns True if both the lists are similar after reversing the first list <mylist1>, or  False if both the lists are different after reversing the first list <mylist1>."
      ],
      "metadata": {
        "id": "pI2E99PZXI-4"
      }
    },
    {
      "cell_type": "code",
      "source": [
        "def similarityCheck(mylist1, mylist2):\n",
        "    mylist1.reverse()\n",
        "    if len(mylist1)==len(mylist2) and mylist1==mylist2:\n",
        "        return True\n",
        "    else:\n",
        "        return False\n",
        "\n",
        "similarityCheck([0,1,0,1,0,1],\n",
        "[True, False, True, False, True, False])"
      ],
      "metadata": {
        "colab": {
          "base_uri": "https://localhost:8080/"
        },
        "id": "D7Cj0bf_XLTS",
        "outputId": "d900d0f9-b5e6-47fc-daee-35f8a2e79835"
      },
      "execution_count": 48,
      "outputs": [
        {
          "output_type": "execute_result",
          "data": {
            "text/plain": [
              "True"
            ]
          },
          "metadata": {},
          "execution_count": 48
        }
      ]
    },
    {
      "cell_type": "markdown",
      "source": [
        "# P-10\n",
        "Create a function occurence that accepts a list and an element.\n",
        "\n",
        "Return the count occurrences of that element in a list using for loop."
      ],
      "metadata": {
        "id": "MujyMf1yYTS7"
      }
    },
    {
      "cell_type": "code",
      "source": [
        "def occurence(mylist, n):\n",
        "    sm = 0\n",
        "    for i in mylist:\n",
        "        if i==n:\n",
        "            sm=sm+1\n",
        "    return sm\n",
        "\n",
        "occurence([\"a\", \"a\", \"a\", \"b\", \"a\", \"e\", \"e\", \"a\", \"a\"], \"a\")"
      ],
      "metadata": {
        "colab": {
          "base_uri": "https://localhost:8080/"
        },
        "id": "f5OVXU9cYWA2",
        "outputId": "decaaee3-d91f-4d9c-9dcf-6a24b7c53e3b"
      },
      "execution_count": 50,
      "outputs": [
        {
          "output_type": "execute_result",
          "data": {
            "text/plain": [
              "6"
            ]
          },
          "metadata": {},
          "execution_count": 50
        }
      ]
    },
    {
      "cell_type": "markdown",
      "source": [
        "# P-11\n",
        "Create a function sumOfDigit that accepts a list and returns the sum of all items in the list using  while loop"
      ],
      "metadata": {
        "id": "3FOGYvD0aAHZ"
      }
    },
    {
      "cell_type": "code",
      "source": [
        "def sumOfDigit(mylist):\n",
        "    sm = 0\n",
        "    i = 0\n",
        "    while i < len(mylist):\n",
        "        sm = sm + mylist[i]\n",
        "        i=i+1\n",
        "\n",
        "    return sm\n",
        "\n",
        "sumOfDigit([1,1,2,3,3,3,2,1,2,5,5,7,7])"
      ],
      "metadata": {
        "colab": {
          "base_uri": "https://localhost:8080/"
        },
        "id": "L2KRfd4daDBe",
        "outputId": "f7cec060-364b-403a-9d39-cf90eec77428"
      },
      "execution_count": 57,
      "outputs": [
        {
          "output_type": "execute_result",
          "data": {
            "text/plain": [
              "42"
            ]
          },
          "metadata": {},
          "execution_count": 57
        }
      ]
    },
    {
      "cell_type": "markdown",
      "source": [
        "# P-12\n",
        "Create a function countElements that accepts a list and returns another list containing only those elements from the first list whose count is an even number.\n",
        "\n",
        "Condition - Returned list should not contain duplicate elements"
      ],
      "metadata": {
        "id": "szizqM9scyPF"
      }
    },
    {
      "cell_type": "code",
      "source": [
        "# Below code gives the correct answer but one condition did not get followed\n",
        "def countElements(mylist):\n",
        "    d ={}\n",
        "    for i in set(mylist):\n",
        "        d[i]=mylist.count(i)\n",
        "        values = list(d.keys())\n",
        "\n",
        "    even_count_elements =[]\n",
        "    for k, v in d.items():\n",
        "        if v % 2 == 0:\n",
        "            even_count_elements.append(k)\n",
        "    return even_count_elements\n",
        "\n",
        "#Approach 2--> This gives the correct answer\n",
        "def countElements(mylist):\n",
        "    element_count = {}\n",
        "    for element in mylist:\n",
        "        if element in element_count:\n",
        "            element_count[element] += 1\n",
        "        else:\n",
        "            element_count[element] = 1\n",
        "\n",
        "    even_count_elements = []\n",
        "    for element, count in element_count.items():\n",
        "        if count % 2 == 0:\n",
        "            even_count_elements.append(element)\n",
        "\n",
        "    return even_count_elements\n",
        "    \"\"\"Write your code here\"\"\"\n",
        "\n",
        "\n",
        "\n",
        "countElements([1, 2, 3, 4, 1, 5, 3, 2, 1, 9])"
      ],
      "metadata": {
        "colab": {
          "base_uri": "https://localhost:8080/"
        },
        "id": "tdTkQ3_Zc1aS",
        "outputId": "3dec2c77-e08e-4d54-d8c8-36f948eaf342"
      },
      "execution_count": 1,
      "outputs": [
        {
          "output_type": "execute_result",
          "data": {
            "text/plain": [
              "[2, 3]"
            ]
          },
          "metadata": {},
          "execution_count": 1
        }
      ]
    },
    {
      "cell_type": "markdown",
      "source": [
        "mylist1= [[1, 2, 3], [4, 5, 6], [7, 8, 9]]\n",
        "mylist2 = mylist1\n",
        "\n",
        "-if you want to modify any values in mylist2 or mylist1, the change is visible in both.\n",
        "But sometimes you may want to have the original values unchanged and only modify the new values or vice versa.\n",
        "In Python, there are two ways to create copies:\n",
        "\n",
        "1. Shallow Copy\n",
        "import copy\n",
        "mylist2= copy.copy(mylist1)\n",
        "\n",
        "2. Deep Copy(However, if you make changes to any nested objects in the original object mylist1, you’ll see no changes to the copy mylist2.)\n",
        "import copy\n",
        "list2 = copy.deepcopy(list1)"
      ],
      "metadata": {
        "id": "85kOM8aP_96N"
      }
    },
    {
      "cell_type": "markdown",
      "source": [
        "# P-13\n",
        "Create a function oddNumbers that accepts a list containing 2 items. The first item denotes <start> and the second element denotes <end>\n",
        "\n",
        "Return a list of odd Integers from <start> to <end>using list comprehension"
      ],
      "metadata": {
        "id": "OGOCFW3sEGgR"
      }
    },
    {
      "cell_type": "code",
      "source": [
        "\n",
        "def oddNumbers(mylist):\n",
        "    return [i for i in range(mylist[0],mylist[1]) if i%2!=0]\n",
        "    #return odd_list\n",
        "\n",
        "\n",
        "oddNumbers([0,7])"
      ],
      "metadata": {
        "colab": {
          "base_uri": "https://localhost:8080/"
        },
        "id": "PkVqbWIUdr7u",
        "outputId": "de072d56-0116-4865-c05b-9da5c8cbd419"
      },
      "execution_count": 9,
      "outputs": [
        {
          "output_type": "execute_result",
          "data": {
            "text/plain": [
              "[1, 3, 5]"
            ]
          },
          "metadata": {},
          "execution_count": 9
        }
      ]
    }
  ],
  "metadata": {
    "colab": {
      "provenance": []
    },
    "kernelspec": {
      "display_name": "Python 3",
      "name": "python3"
    },
    "language_info": {
      "name": "python"
    }
  },
  "nbformat": 4,
  "nbformat_minor": 0
}