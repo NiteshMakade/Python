{
  "nbformat": 4,
  "nbformat_minor": 0,
  "metadata": {
    "colab": {
      "provenance": []
    },
    "kernelspec": {
      "name": "python3",
      "display_name": "Python 3"
    },
    "language_info": {
      "name": "python"
    }
  },
  "cells": [
    {
      "cell_type": "markdown",
      "source": [
        "# **Here is a beginner-level programming challenge using Python.(Series-2)**"
      ],
      "metadata": {
        "id": "hupCAkIXMWLC"
      }
    },
    {
      "cell_type": "markdown",
      "source": [
        "#P-21\n",
        "Write a function named rotate that gets an array of integers and returns the array rotated to the right.\n",
        "Examples,\n",
        "rotate([1, 2, 3])  ->  [3, 1, 2]\n",
        "rotate([3, 1, 2])  ->  [2, 3, 1]"
      ],
      "metadata": {
        "id": "dRRsn0C1gy9k"
      }
    },
    {
      "cell_type": "code",
      "source": [
        "def rotate(arr):\n",
        "    if not arr:\n",
        "        return arr  # return empty list if arr is empty\n",
        "\n",
        "    last_elem = arr.pop()  # remove the last element from the list\n",
        "    arr.insert(0, last_elem)  # insert the last element at the beginning\n",
        "    return arr\n",
        "\n",
        "rotate([3, 1, 2])"
      ],
      "metadata": {
        "colab": {
          "base_uri": "https://localhost:8080/"
        },
        "id": "srj6BTHR7oPk",
        "outputId": "76c47d60-1205-4268-dd35-9a5fde97cad9"
      },
      "execution_count": null,
      "outputs": [
        {
          "output_type": "execute_result",
          "data": {
            "text/plain": [
              "[2, 3, 1]"
            ]
          },
          "metadata": {},
          "execution_count": 9
        }
      ]
    },
    {
      "cell_type": "markdown",
      "source": [
        "#P-22\n",
        "Write a function named convert that gets a number and returns an array of integers representing this number.\n",
        "Examples,\n",
        "convert(123)  -> [1, 2, 3]\n",
        "convert(91)  ->  [9, 1]"
      ],
      "metadata": {
        "id": "qkZlGUfQg9W9"
      }
    },
    {
      "cell_type": "code",
      "source": [
        "def convert(n):\n",
        "  lst = []\n",
        "  for i in str(n):\n",
        "    lst.append(int(i))\n",
        "  return lst\n",
        "\n",
        "convert(123)"
      ],
      "metadata": {
        "colab": {
          "base_uri": "https://localhost:8080/"
        },
        "id": "i1_0U6v0XTiU",
        "outputId": "f4003614-a761-42d6-a412-b1d829d775a7"
      },
      "execution_count": null,
      "outputs": [
        {
          "output_type": "execute_result",
          "data": {
            "text/plain": [
              "[1, 2, 3]"
            ]
          },
          "metadata": {},
          "execution_count": 11
        }
      ]
    },
    {
      "cell_type": "markdown",
      "source": [
        "#P-23\n",
        "Write a function named sort that gets a word (string) and returns the word with it's letters sorted alphabetically.\n",
        "Example: sort('hello')  ->  ehllo"
      ],
      "metadata": {
        "id": "Qg45jk1ShO6v"
      }
    },
    {
      "cell_type": "code",
      "source": [
        "def sort(s):\n",
        "  return \"\".join(sorted(s))\n",
        "\n",
        "\n",
        "sort('test')"
      ],
      "metadata": {
        "colab": {
          "base_uri": "https://localhost:8080/",
          "height": 35
        },
        "id": "PvhHyXjDYjW5",
        "outputId": "d6f779f5-847e-4acf-9ff1-339d661176c3"
      },
      "execution_count": null,
      "outputs": [
        {
          "output_type": "execute_result",
          "data": {
            "text/plain": [
              "'estt'"
            ],
            "application/vnd.google.colaboratory.intrinsic+json": {
              "type": "string"
            }
          },
          "metadata": {},
          "execution_count": 12
        }
      ]
    },
    {
      "cell_type": "markdown",
      "source": [
        "#P-24\n",
        "Create a function named fibo that gets an integer i and returns the ith fibonacci series number.\n",
        "The fibonacci series starts from 0 and 1 and each time the ith element equals the sum of the i-1th and i-2th elements\n",
        "So,\n",
        "0th - 0\n",
        "1th - 1\n",
        "2th - 1 = 0 + 1\n",
        "3th - 2 = 1 + 1\n",
        "4th - 3 = 1 + 2\n",
        "5th - 5 = 2 + 3\n",
        "6th - 8 = 3 + 5"
      ],
      "metadata": {
        "id": "9QbOKja_hsxu"
      }
    },
    {
      "cell_type": "code",
      "source": [
        "def fibonacci(n):\n",
        "    fib_series = [0, 1]  # Starting Fibonacci series with 0 and 1\n",
        "\n",
        "    # Generate Fibonacci sequence\n",
        "    for i in range(1, n):\n",
        "        next_num = fib_series[-1] + fib_series[-2]\n",
        "        fib_series.append(next_num)\n",
        "\n",
        "    return fib_series[-1]\n",
        "\n",
        "fibonacci(26)"
      ],
      "metadata": {
        "id": "UveXChoCfKxu",
        "colab": {
          "base_uri": "https://localhost:8080/"
        },
        "outputId": "5a435364-2360-4af7-f1ab-ccbadc2a4564"
      },
      "execution_count": null,
      "outputs": [
        {
          "output_type": "execute_result",
          "data": {
            "text/plain": [
              "121393"
            ]
          },
          "metadata": {},
          "execution_count": 13
        }
      ]
    },
    {
      "cell_type": "markdown",
      "source": [
        "#P-25(a)\n",
        "Write a function named occurMax that gets an array of integers and returns the integer that occurs the most!\n",
        "\n",
        "If there is more than one maximum occurrence, return the first one.\n",
        "\n"
      ],
      "metadata": {
        "id": "6ezHH6rpiXum"
      }
    },
    {
      "cell_type": "code",
      "source": [
        "def occurMax(arr):\n",
        "    # Dictionary to store occurrences of each integer\n",
        "    count_dict = {}\n",
        "\n",
        "    # Populate the dictionary with counts\n",
        "    for num in arr:\n",
        "        if num in count_dict:\n",
        "            count_dict[num] += 1\n",
        "        else:\n",
        "            count_dict[num] = 1\n",
        "\n",
        "    # Initialize variables to track maximum occurrence and corresponding integer\n",
        "    max_occurrence = 0\n",
        "    max_integer = None\n",
        "\n",
        "    # Iterate through the dictionary to find the integer with maximum occurrence\n",
        "    for key, value in count_dict.items():\n",
        "        if value > max_occurrence:\n",
        "            max_occurrence = value\n",
        "            max_integer = key\n",
        "\n",
        "    # Return the integer with maximum occurrence\n",
        "    return max_integer\n",
        "\n",
        "\n",
        "occurMax([2, 1, 1,2])"
      ],
      "metadata": {
        "colab": {
          "base_uri": "https://localhost:8080/"
        },
        "id": "9mI-wz1EDszL",
        "outputId": "903c9824-14f7-4990-c142-9d701078dbcc"
      },
      "execution_count": null,
      "outputs": [
        {
          "output_type": "execute_result",
          "data": {
            "text/plain": [
              "2"
            ]
          },
          "metadata": {},
          "execution_count": 14
        }
      ]
    },
    {
      "cell_type": "markdown",
      "source": [
        "#P-25(b)\n",
        "Write a function named occurMax that gets an array of integers and returns the integer that occurs the most!\n",
        "\n",
        "If there is more than one maximum occurrence, return the first one."
      ],
      "metadata": {
        "id": "HWBNMch9ipuS"
      }
    },
    {
      "cell_type": "code",
      "source": [
        "# below code also works the same but it does not follow \"If there is more than one maximum occurrence, return the first one.\" condition\n",
        "\n",
        "def occurMax(arr):\n",
        "    # Sort the array to group identical elements together\n",
        "    #arr.sort()\n",
        "    max_count = 0\n",
        "    max_integer = None\n",
        "\n",
        "    current_count = 0\n",
        "    current_integer = None\n",
        "\n",
        "    for num in arr:\n",
        "        if num == current_integer:\n",
        "            current_count += 1\n",
        "        else:\n",
        "            if current_count > max_count:\n",
        "                max_count = current_count\n",
        "                max_integer = current_integer\n",
        "\n",
        "            current_integer = num\n",
        "            current_count = 1\n",
        "\n",
        "    # Final check for the last group of integers\n",
        "    if current_count > max_count:\n",
        "        max_integer = current_integer\n",
        "\n",
        "    return max_integer"
      ],
      "metadata": {
        "id": "0uioKQkspZ3F"
      },
      "execution_count": null,
      "outputs": []
    },
    {
      "cell_type": "markdown",
      "source": [
        "# P-26\n",
        "Write a function named longestCommonPrefix that gets an array of strings and returns the longest common prefix of all the strings in the array.\n",
        "\n",
        "Examples,\n",
        "\n",
        "longestCommonPrefix(['Hello, Bob', 'Hello, Jake'])  ->  'Hello, '\n",
        "longestCommonPrefix(['something', 'somehow', 'somewhat'])  ->  'some'\n",
        "longestCommonPrefix(['example', 'sample'])  ->  ''"
      ],
      "metadata": {
        "id": "2saHqNPat8Lm"
      }
    },
    {
      "cell_type": "code",
      "source": [
        "def longestCommonPrefix(a):\n",
        "    if not a:\n",
        "        return \"\"\n",
        "\n",
        "    prefix = \"\"\n",
        "    for i, char in enumerate(a[0]):\n",
        "        for other_str in a[1:]:\n",
        "            if i >= len(other_str) or other_str[i] != char:\n",
        "                return prefix\n",
        "        prefix += char\n",
        "\n",
        "    return prefix\n",
        "\n",
        "# Examples\n",
        "print(longestCommonPrefix(['maxima', 'max', 'm']))  # Output: 'Hello, '\n",
        "print(longestCommonPrefix(['something', 'somehow', 'somewhat']))  # Output: 'some'\n",
        "print(longestCommonPrefix(['example', 'sample']))  # Output: ''"
      ],
      "metadata": {
        "colab": {
          "base_uri": "https://localhost:8080/"
        },
        "id": "D0sgxTLmrQ8d",
        "outputId": "aa2c27c0-6638-4088-9343-f00521149ed1"
      },
      "execution_count": null,
      "outputs": [
        {
          "output_type": "stream",
          "name": "stdout",
          "text": [
            "m\n",
            "some\n",
            "\n"
          ]
        }
      ]
    },
    {
      "cell_type": "markdown",
      "source": [
        "## Below are few Example based on Dictionary"
      ],
      "metadata": {
        "id": "MZL7r4VBB8Og"
      }
    },
    {
      "cell_type": "markdown",
      "source": [
        "# P-27\n",
        "Create a function named search_book that allows you to search for a book in a library catalog by its title.\n",
        "The function should take the library catalog and a title as input and return the book's details (title, author, publication year, and availability)\n",
        "if the book is found. If the book is not in the catalog, the function should return a message indicating that the book is not found."
      ],
      "metadata": {
        "id": "UyYmGGZ5yTs4"
      }
    },
    {
      "cell_type": "code",
      "source": [
        "def search_book(catalog, title):\n",
        "  for key,value in catalog.items():\n",
        "    return catalog[title] if key==title else \"Book not found in the catalog\"\n",
        "\n",
        "catalog = {\n",
        "    \"1984\": {\"author\": \"George Orwell\", \"year\": 1949, \"available\": True},\n",
        "    \"Brave New World\": {\"author\": \"Aldous Huxley\", \"year\": 1932, \"available\": True}\n",
        "}\n",
        "search_book(catalog, \"The Catcher in the Rye\")"
      ],
      "metadata": {
        "colab": {
          "base_uri": "https://localhost:8080/",
          "height": 35
        },
        "id": "x1hpGDn9WIQ4",
        "outputId": "278496b5-3055-4252-ffe7-200975b007d7"
      },
      "execution_count": null,
      "outputs": [
        {
          "output_type": "execute_result",
          "data": {
            "text/plain": [
              "'Book not found in the catalog'"
            ],
            "application/vnd.google.colaboratory.intrinsic+json": {
              "type": "string"
            }
          },
          "metadata": {},
          "execution_count": 15
        }
      ]
    },
    {
      "cell_type": "markdown",
      "source": [
        "# P-28\n",
        "Create a function named find_most_recent_book that finds the most recently published book in a library catalog.\n",
        "The function should take the library catalog as an input parameter and return the title of the book that is the most recently published.\n"
      ],
      "metadata": {
        "id": "iSdv_JXb7wQq"
      }
    },
    {
      "cell_type": "code",
      "source": [
        "def find_most_recent_book(library_catalog):\n",
        "  most_recent_year = 0\n",
        "  most_recent_title= ''\n",
        "  for book in library_catalog:\n",
        "    if book['year'] > most_recent_year:\n",
        "      most_recent_year = book['year']\n",
        "      most_recent_title = book['title']\n",
        "  return most_recent_title\n",
        "\n",
        "find_most_recent_book([{\"title\": \"Book1\", \"year\": 2020}])\n",
        "find_most_recent_book([{\"title\": \"Book1\", \"year\": 2015}, {\"title\": \"Book2\", \"year\": 2015}, {\"title\": \"Book3\", \"year\": 2015}])\n",
        "find_most_recent_book([{\"title\": \"The Lion, the Witch and the Wardrobe\", \"year\": 1950}, {\"title\": \"A Tale of Two Cities\", \"year\": 1859},\n",
        " {\"title\": \"Harry Potter and the Philosopher's Stone\", \"year\": 1997}])\n"
      ],
      "metadata": {
        "colab": {
          "base_uri": "https://localhost:8080/",
          "height": 35
        },
        "id": "NmeLB1-5dIIL",
        "outputId": "2832ccd6-be7a-40ca-ecf3-3cfb5bb03735"
      },
      "execution_count": null,
      "outputs": [
        {
          "output_type": "execute_result",
          "data": {
            "text/plain": [
              "'Book1'"
            ],
            "application/vnd.google.colaboratory.intrinsic+json": {
              "type": "string"
            }
          },
          "metadata": {},
          "execution_count": 29
        }
      ]
    },
    {
      "cell_type": "markdown",
      "source": [
        "# P-29\n",
        "Define a function 'calculate_average_grade' which will calculate average graded from students_grade.\n",
        "Note student_grade is dictionary with Name as a key and grade as a value"
      ],
      "metadata": {
        "id": "MKL-ja1C8pXQ"
      }
    },
    {
      "cell_type": "code",
      "source": [
        "def calculate_average_grade(student_grades):\n",
        "    # Write code here\n",
        "    sum=0\n",
        "    for value in student_grades.values():\n",
        "        sum = sum+value\n",
        "    print(sum/len(student_grades.values()))\n",
        "\n",
        "\n",
        "calculate_average_grade({\"Alice\": -90.0, \"Bob\": -85.5, \"Charlie\": -78.5})"
      ],
      "metadata": {
        "colab": {
          "base_uri": "https://localhost:8080/"
        },
        "id": "O1NKp3ZwVuqn",
        "outputId": "63a7897c-e792-4ac0-d8dc-1dbae40dba08"
      },
      "execution_count": null,
      "outputs": [
        {
          "output_type": "stream",
          "name": "stdout",
          "text": [
            "-84.66666666666667\n"
          ]
        }
      ]
    },
    {
      "cell_type": "markdown",
      "source": [
        "# P-30\n",
        "Create a function named calculate_total_value that calculates the total value of items in a dictionary, where the keys represent item names, and the values represent their prices.\n",
        "The function should take this dictionary as input and return the total value. (Dictionary)"
      ],
      "metadata": {
        "id": "r5M7e2JN_MvB"
      }
    },
    {
      "cell_type": "code",
      "source": [
        "def calculate_total_value(items_dict):\n",
        "  sm=0\n",
        "  for value in  items_dict.values():\n",
        "    sm= sm + value\n",
        "  return sm\n",
        "\n",
        "calculate_total_value({\"item1\": 2.5, \"item2\": 3, \"item3\": 1.75})"
      ],
      "metadata": {
        "colab": {
          "base_uri": "https://localhost:8080/"
        },
        "id": "a9MPmBL5bXUf",
        "outputId": "f98fc9e4-43fc-4c9f-dbf6-f5c2d7cceb41"
      },
      "execution_count": null,
      "outputs": [
        {
          "output_type": "execute_result",
          "data": {
            "text/plain": [
              "7.25"
            ]
          },
          "metadata": {},
          "execution_count": 6
        }
      ]
    },
    {
      "cell_type": "markdown",
      "source": [
        "# P-31\n",
        "Create a function named add_book that adds books to a library catalog represented as a dictionary. The function should take the title (the key), author, and publication year as input parameters and add a new book entry to the catalog with initial availability marked as \"available.\"\n",
        "\n",
        "Your function signature should look like this:\n",
        "def add_book(catalog, title, author, year):\n",
        "catalog is the library catalog dictionary.\n",
        "title is the title of the book.\n",
        "author is the author of the book.\n",
        "year is the publication year of the book."
      ],
      "metadata": {
        "id": "mmum3sCUAXOM"
      }
    },
    {
      "cell_type": "code",
      "source": [
        "#Dictionary\n",
        "def add_book(catalog, title, author, year):\n",
        "  catalog[title] = {\n",
        "        'author': author,\n",
        "        'year': year,\n",
        "        'availability': True\n",
        "    }\n",
        "\n",
        "catalog = {}\n",
        "add_book(catalog, \"The Hobbit\", \"J.R.R. Tolkien\", 1937)\n",
        "add_book(catalog, \"The Hobbit\", \"Tolkien\", 1937)\n",
        "\n",
        "catalog"
      ],
      "metadata": {
        "colab": {
          "base_uri": "https://localhost:8080/"
        },
        "id": "LfpvLWFAp4tl",
        "outputId": "089e6f79-4824-456b-f222-b18d1ff08a13"
      },
      "execution_count": null,
      "outputs": [
        {
          "output_type": "execute_result",
          "data": {
            "text/plain": [
              "{'The Hobbit': {'author': 'Tolkien', 'year': 1937, 'availability': True}}"
            ]
          },
          "metadata": {},
          "execution_count": 9
        }
      ]
    },
    {
      "cell_type": "markdown",
      "source": [
        "# P-32\n",
        "Create a function named update_availability that allows you to update the availability status of a book in a library catalog. The function should take the library catalog, a title, and a new availability status as input parameters and update the availability status of the specified book in the catalog."
      ],
      "metadata": {
        "id": "31FNZUMsAFxC"
      }
    },
    {
      "cell_type": "code",
      "source": [
        "def update_availability(catalog, title, new_availability):\n",
        "  if title in catalog:\n",
        "    catalog[title]['available']=new_availability\n",
        "\n",
        "catalog = {\n",
        "    \"1984\": {\"author\": \"George Orwell\", \"year\": 1949, \"available\": False},\n",
        "    \"Brave New World\": {\"author\": \"Aldous Huxley\", \"year\": 1932, \"available\": True}\n",
        "}\n",
        "update_availability(catalog, \"1984\", True)\n",
        "\n",
        "print(catalog)"
      ],
      "metadata": {
        "colab": {
          "base_uri": "https://localhost:8080/"
        },
        "id": "jpSIxCrpuI3L",
        "outputId": "948da310-f8fe-4ffb-d549-4a1e81ea5f5e"
      },
      "execution_count": null,
      "outputs": [
        {
          "output_type": "stream",
          "name": "stdout",
          "text": [
            "{'1984': {'author': 'George Orwell', 'year': 1949, 'available': True}, 'Brave New World': {'author': 'Aldous Huxley', 'year': 1932, 'available': True}}\n"
          ]
        }
      ]
    },
    {
      "cell_type": "code",
      "source": [
        "# Iteretation for dictioanry in list\n",
        "d = [{\"title\": \"The Lion, the Witch and the Wardrobe\", \"year\": 1950},\n",
        "      {\"title\": \"A Tale of Two Cities\", \"year\": 1859},\n",
        "      {\"title\": \"Harry Potter and the Philosopher's Stone\", \"year\": 1997}\n",
        "     ]\n",
        "\n",
        "for book in d:\n",
        "  for key, value in book.items():\n",
        "    print(value)"
      ],
      "metadata": {
        "colab": {
          "base_uri": "https://localhost:8080/"
        },
        "id": "QhknryWCk4yr",
        "outputId": "faf8258a-7090-42df-a25a-7b8202903985"
      },
      "execution_count": null,
      "outputs": [
        {
          "output_type": "stream",
          "name": "stdout",
          "text": [
            "The Lion, the Witch and the Wardrobe\n",
            "1950\n",
            "A Tale of Two Cities\n",
            "1859\n",
            "Harry Potter and the Philosopher's Stone\n",
            "1997\n"
          ]
        }
      ]
    }
  ]
}